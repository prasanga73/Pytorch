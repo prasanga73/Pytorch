{
 "cells": [
  {
   "cell_type": "code",
   "execution_count": 15,
   "id": "4f4477be",
   "metadata": {},
   "outputs": [],
   "source": [
    "import torch\n",
    "import torch.nn as nn\n",
    "from torchvision import transforms"
   ]
  },
  {
   "cell_type": "code",
   "execution_count": 7,
   "id": "aea5a7c4",
   "metadata": {},
   "outputs": [
    {
     "name": "stdout",
     "output_type": "stream",
     "text": [
      "Using cuda: NVIDIA GeForce RTX 3050 Laptop GPU\n"
     ]
    }
   ],
   "source": [
    "device = torch.device(\"cuda\" if torch.cuda.is_available() else \"cpu\")\n",
    "print(f\"Using {device}:\", torch.cuda.get_device_name())"
   ]
  },
  {
   "cell_type": "markdown",
   "id": "21d32f84",
   "metadata": {},
   "source": [
    "### Hyperparameters"
   ]
  },
  {
   "cell_type": "code",
   "execution_count": 9,
   "id": "d4dc71a1",
   "metadata": {},
   "outputs": [],
   "source": [
    "input_size = 784 # 28x28 images flattened\n",
    "hidden_size = 128\n",
    "num_classes = 10 # 10 digits\n",
    "num_epochs = 5\n",
    "batch_size = 100\n",
    "learning_rate = 0.001\n"
   ]
  },
  {
   "cell_type": "markdown",
   "id": "f1a8d235",
   "metadata": {},
   "source": [
    "**input_size:**  \n",
    "Each MNIST image is 28×28 pixels, which we flatten to a 784-element vector  \n",
    "\n",
    "**hidden_size:**  \n",
    "Number of neurons in our hidden layer  \n",
    "\n",
    "**num_classes:**  \n",
    "We have 10 possible outputs (digits 0-9)  \n",
    "\n",
    "**num_epochs:**  \n",
    "Number of complete passes through the training dataset  \n",
    "\n",
    "**batch_size:**  \n",
    "Number of images processed together  \n",
    "\n",
    "**learning_rate:**  \n",
    "Controls how much we adjust our model in response to errors  "
   ]
  },
  {
   "cell_type": "markdown",
   "id": "ace10dd9",
   "metadata": {},
   "source": []
  },
  {
   "cell_type": "markdown",
   "id": "add9d86a",
   "metadata": {},
   "source": [
    "### Data Preparation"
   ]
  },
  {
   "cell_type": "code",
   "execution_count": 16,
   "id": "d90ec3a6",
   "metadata": {},
   "outputs": [],
   "source": [
    "transform = transforms.Compose([\n",
    "    transforms.ToTensor(),\n",
    "    transforms.Normalize((0.1307,), (0.3081,))\n",
    "])"
   ]
  },
  {
   "cell_type": "code",
   "execution_count": null,
   "id": "c5700fe5",
   "metadata": {},
   "outputs": [],
   "source": []
  }
 ],
 "metadata": {
  "kernelspec": {
   "display_name": "pytorchenv",
   "language": "python",
   "name": "python3"
  },
  "language_info": {
   "codemirror_mode": {
    "name": "ipython",
    "version": 3
   },
   "file_extension": ".py",
   "mimetype": "text/x-python",
   "name": "python",
   "nbconvert_exporter": "python",
   "pygments_lexer": "ipython3",
   "version": "3.13.2"
  }
 },
 "nbformat": 4,
 "nbformat_minor": 5
}
