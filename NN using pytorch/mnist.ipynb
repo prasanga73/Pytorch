{
 "cells": [
  {
   "cell_type": "code",
   "execution_count": 6,
   "id": "4f4477be",
   "metadata": {},
   "outputs": [],
   "source": [
    "import torch\n",
    "import torch.nn as nn\n",
    "import torchvision\n",
    "from torchvision import transforms"
   ]
  },
  {
   "cell_type": "code",
   "execution_count": 2,
   "id": "aea5a7c4",
   "metadata": {},
   "outputs": [
    {
     "name": "stdout",
     "output_type": "stream",
     "text": [
      "Using cuda: GeForce RTX 3050 Laptop GPU\n"
     ]
    }
   ],
   "source": [
    "device = torch.device(\"cuda\" if torch.cuda.is_available() else \"cpu\")\n",
    "print(f\"Using {device}:\", torch.cuda.get_device_name())"
   ]
  },
  {
   "cell_type": "markdown",
   "id": "21d32f84",
   "metadata": {},
   "source": [
    "### Hyperparameters"
   ]
  },
  {
   "cell_type": "code",
   "execution_count": 3,
   "id": "d4dc71a1",
   "metadata": {},
   "outputs": [],
   "source": [
    "input_size = 784 # 28x28 images flattened\n",
    "hidden_size = 128\n",
    "num_classes = 10 # 10 digits\n",
    "num_epochs = 5\n",
    "batch_size = 100\n",
    "learning_rate = 0.001\n"
   ]
  },
  {
   "cell_type": "markdown",
   "id": "f1a8d235",
   "metadata": {},
   "source": [
    "**input_size:**  \n",
    "Each MNIST image is 28×28 pixels, which we flatten to a 784-element vector  \n",
    "\n",
    "**hidden_size:**  \n",
    "Number of neurons in our hidden layer  \n",
    "\n",
    "**num_classes:**  \n",
    "We have 10 possible outputs (digits 0-9)  \n",
    "\n",
    "**num_epochs:**  \n",
    "Number of complete passes through the training dataset  \n",
    "\n",
    "**batch_size:**  \n",
    "Number of images processed together  \n",
    "\n",
    "**learning_rate:**  \n",
    "Controls how much we adjust our model in response to errors  "
   ]
  },
  {
   "cell_type": "markdown",
   "id": "add9d86a",
   "metadata": {},
   "source": [
    "### Data Preparation"
   ]
  },
  {
   "cell_type": "code",
   "execution_count": 4,
   "id": "d90ec3a6",
   "metadata": {},
   "outputs": [],
   "source": [
    "transform = transforms.Compose([\n",
    "    transforms.ToTensor(),\n",
    "    transforms.Normalize((0.1307,), (0.3081,))\n",
    "])"
   ]
  },
  {
   "cell_type": "code",
   "execution_count": 7,
   "id": "c5700fe5",
   "metadata": {},
   "outputs": [
    {
     "name": "stderr",
     "output_type": "stream",
     "text": [
      "100%|██████████| 9.91M/9.91M [00:38<00:00, 258kB/s] \n",
      "100%|██████████| 28.9k/28.9k [00:00<00:00, 120kB/s]\n",
      "100%|██████████| 1.65M/1.65M [00:01<00:00, 965kB/s] \n",
      "100%|██████████| 4.54k/4.54k [00:00<00:00, 2.28MB/s]\n"
     ]
    }
   ],
   "source": [
    "train_dataset = torchvision.datasets.MNIST(root='./data', train=True, download=True, transform=transform)"
   ]
  },
  {
   "cell_type": "code",
   "execution_count": 10,
   "id": "3452e933",
   "metadata": {},
   "outputs": [],
   "source": [
    "from torch.utils.data import DataLoader\n",
    "train_loader = DataLoader(dataset = train_dataset, batch_size=batch_size, shuffle=True)"
   ]
  },
  {
   "cell_type": "markdown",
   "id": "10e4ed5a",
   "metadata": {},
   "source": [
    "#### Neural network architecture"
   ]
  },
  {
   "cell_type": "code",
   "execution_count": 12,
   "id": "e653cdad",
   "metadata": {},
   "outputs": [],
   "source": [
    "class NeuralNet(nn.Module):\n",
    "    def __init__(self,input_size,hidden_size,num_classes):\n",
    "        super(NeuralNet,self).__init__()\n",
    "        self.fc1 = nn.Linear(input_size,hidden_size)\n",
    "        self.relu = nn.ReLU()\n",
    "        self.fc2 = nn.Linear(hidden_size,hidden_size)\n",
    "        self.fc3 = nn.Linear(hidden_size,num_classes)\n",
    "    \n",
    "    def forward(self,x):\n",
    "        out = x.reshape(-1,input_size)\n",
    "        out = self.fc1(out)\n",
    "        out = self.relu(out)\n",
    "        out = self.fc2(out)\n",
    "        out = self.relu(out)\n",
    "        out = self.fc3(out)\n",
    "        return out\n",
    "        "
   ]
  },
  {
   "cell_type": "markdown",
   "id": "2373f9dd",
   "metadata": {},
   "source": [
    "#### Model instance"
   ]
  },
  {
   "cell_type": "code",
   "execution_count": 13,
   "id": "ed7a1891",
   "metadata": {},
   "outputs": [],
   "source": [
    "model = NeuralNet(input_size,hidden_size,num_classes).to(device)"
   ]
  },
  {
   "cell_type": "code",
   "execution_count": null,
   "id": "dfc3304a",
   "metadata": {},
   "outputs": [],
   "source": [
    "criterion = nn.CrossEntropyLoss()\n",
    "optimizer = torch.optim.Adam(model.parameters(), lr=learning_rate)"
   ]
  },
  {
   "cell_type": "code",
   "execution_count": 16,
   "id": "c162cee5",
   "metadata": {},
   "outputs": [],
   "source": [
    "import time\n",
    "import matplotlib.pyplot as plt\n",
    "def train_model():\n",
    "    total_step = len(train_loader)\n",
    "    train_losses = []\n",
    "    \n",
    "    start_time = time.time()\n",
    "    for epoch in range(num_epochs):\n",
    "        running_loss = 0.0\n",
    "        \n",
    "        for i, (images, labels) in enumerate(train_loader):\n",
    "            images = images.to(device)\n",
    "            labels = labels.to(device)\n",
    "\n",
    "            # Forward pass\n",
    "            outputs = model(images)\n",
    "            loss = criterion(outputs, labels)\n",
    "\n",
    "            # Backward and optimize\n",
    "            optimizer.zero_grad()\n",
    "            loss.backward()\n",
    "            optimizer.step()\n",
    "\n",
    "            running_loss += loss.item()\n",
    "            \n",
    "            if (i+1) % 100 == 0:\n",
    "                print (f'Epoch [{epoch+1}/{num_epochs}], Step [{i+1}/{total_step}], Loss: {loss.item():.4f}')\n",
    "                \n",
    "        avg_loss = running_loss / total_step\n",
    "        train_losses.append(avg_loss)\n",
    "        print(f'Epoch [{epoch+1}/{num_epochs}], Average Loss: {avg_loss:.4f}')\n",
    "    end_time = time.time()\n",
    "    print(f'Training time: {end_time - start_time:.2f} seconds')\n",
    "    \n",
    "    plt.figure(figsize=(10,5))\n",
    "    plt.plot(range(1, num_epochs + 1), train_losses, 'b-',label='Training Loss')\n",
    "    plt.title('Training Loss vs. Epochs')\n",
    "    plt.xlabel('Epochs')\n",
    "    plt.ylabel('Loss')\n",
    "    plt.legend()\n",
    "    plt.grid(True)\n",
    "    plt.show()\n",
    "    \n",
    "    return train_losses\n",
    "            \n",
    "    "
   ]
  },
  {
   "cell_type": "code",
   "execution_count": 17,
   "id": "e217ad62",
   "metadata": {},
   "outputs": [],
   "source": [
    "def save_model():\n",
    "    torch.save(model.state_dict(), 'model.pth')\n",
    "    print('Model saved to model.pth')"
   ]
  },
  {
   "cell_type": "code",
   "execution_count": null,
   "id": "e6326d55",
   "metadata": {},
   "outputs": [
    {
     "name": "stdout",
     "output_type": "stream",
     "text": [
      "Epoch [1/5], Step [100/600], Loss: 0.2977\n",
      "Epoch [1/5], Step [200/600], Loss: 0.1595\n",
      "Epoch [1/5], Step [300/600], Loss: 0.3387\n",
      "Epoch [1/5], Step [400/600], Loss: 0.1361\n",
      "Epoch [1/5], Step [500/600], Loss: 0.2144\n",
      "Epoch [1/5], Step [600/600], Loss: 0.1226\n",
      "Epoch [1/5], Average Loss: 0.2897\n",
      "Epoch [2/5], Step [100/600], Loss: 0.0689\n"
     ]
    }
   ],
   "source": [
    "train_model()"
   ]
  },
  {
   "cell_type": "code",
   "execution_count": null,
   "id": "88b07bc7",
   "metadata": {},
   "outputs": [],
   "source": []
  }
 ],
 "metadata": {
  "kernelspec": {
   "display_name": "pytorchenv",
   "language": "python",
   "name": "python3"
  },
  "language_info": {
   "codemirror_mode": {
    "name": "ipython",
    "version": 3
   },
   "file_extension": ".py",
   "mimetype": "text/x-python",
   "name": "python",
   "nbconvert_exporter": "python",
   "pygments_lexer": "ipython3",
   "version": "3.11.11"
  }
 },
 "nbformat": 4,
 "nbformat_minor": 5
}
